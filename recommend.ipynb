{
 "cells": [
  {
   "cell_type": "code",
   "execution_count": 1,
   "metadata": {},
   "outputs": [],
   "source": [
    "import sys\n",
    "import pandas as pd\n",
    "from sklearn.feature_extraction.text import TfidfVectorizer\n",
    "from sklearn.metrics.pairwise import cosine_similarity"
   ]
  },
  {
   "cell_type": "code",
   "execution_count": 13,
   "metadata": {},
   "outputs": [],
   "source": [
    "# Load dataset from a CSV file\n",
    "def load_data(csv_path: str) -> pd.DataFrame:\n",
    "    df = pd.read_csv(csv_path)\n",
    "    df.dropna(subset=['keywords'], inplace=True)\n",
    "    return df\n",
    "\n",
    "# Build a TF-IDF matrix for a list of descriptions\n",
    "# Returns fitted TfidfVectorizer and resulting matrix\n",
    "def build_tfidf_matrix(descriptions):\n",
    "    vectorizer = TfidfVectorizer(stop_words='english')\n",
    "    tfidf_matrix = vectorizer.fit_transform(descriptions)\n",
    "    return vectorizer, tfidf_matrix\n",
    "\n",
    "# Given a user description, compute similarity with each item's keywords and return the top N similar items.\n",
    "def get_N_similar_items(query: str, \n",
    "                            vectorizer: TfidfVectorizer, \n",
    "                            tfidf_matrix, \n",
    "                            df: pd.DataFrame, \n",
    "                            N: int = 5):\n",
    "    \n",
    "    # Transform the query into the same TF-IDF space\n",
    "    query_vector = vectorizer.transform([query])\n",
    "    \n",
    "    # Compute cosine similarity\n",
    "    similarity_scores = cosine_similarity(query_vector, tfidf_matrix).flatten()\n",
    "    \n",
    "    # Get the N item indices\n",
    "    top_indices = similarity_scores.argsort()[::-1][:N]\n",
    "    \n",
    "    # Build a result list consisting of title and similarity score\n",
    "    results = []\n",
    "    for i in top_indices:\n",
    "        results.append({\n",
    "            'title': df.iloc[i]['title'],\n",
    "            'similarity': round(float(similarity_scores[i]), 3)\n",
    "        })\n",
    "    return results"
   ]
  },
  {
   "cell_type": "code",
   "execution_count": 22,
   "metadata": {},
   "outputs": [],
   "source": [
    "user_query = 'I like action movies set in space'"
   ]
  },
  {
   "cell_type": "code",
   "execution_count": 23,
   "metadata": {},
   "outputs": [
    {
     "name": "stdout",
     "output_type": "stream",
     "text": [
      "\n",
      "User Query: I like action movies set in space\n",
      "Top Recommendations:\n",
      "1. King's Ransom (Similarity: 0.413)\n",
      "2. Gravity (Similarity: 0.326)\n",
      "3. Space Dogs (Similarity: 0.322)\n",
      "4. Sinister (Similarity: 0.309)\n",
      "5. Space Chimps (Similarity: 0.291)\n"
     ]
    }
   ],
   "source": [
    "def main():  \n",
    "    if len(sys.argv) < 2:\n",
    "        print(\"Usage: python recommend.py 'Your description of preferences'\")\n",
    "        sys.exit(1)\n",
    "    \n",
    "    # Load data\n",
    "    data_path = \"data/movies.csv\"\n",
    "    df = load_data(data_path)\n",
    "    \n",
    "    # Build TF-IDF matrix\n",
    "    vectorizer, tfidf_matrix = build_tfidf_matrix(df['keywords'])\n",
    "    \n",
    "    # Get top similar items\n",
    "    recommendations = get_N_similar_items(user_query, vectorizer, tfidf_matrix, df, N=5)\n",
    "    \n",
    "    # Print recommendations\n",
    "    print(f\"\\nUser Query: {user_query}\")\n",
    "    print(\"Top Recommendations:\")\n",
    "    for i, rec in enumerate(recommendations, start=1):\n",
    "        print(f\"{i}. {rec['title']} (Similarity: {rec['similarity']})\")\n",
    "\n",
    "if __name__ == \"__main__\":\n",
    "    main()\n"
   ]
  }
 ],
 "metadata": {
  "kernelspec": {
   "display_name": "adrian_env",
   "language": "python",
   "name": "python3"
  },
  "language_info": {
   "codemirror_mode": {
    "name": "ipython",
    "version": 3
   },
   "file_extension": ".py",
   "mimetype": "text/x-python",
   "name": "python",
   "nbconvert_exporter": "python",
   "pygments_lexer": "ipython3",
   "version": "3.10.8"
  }
 },
 "nbformat": 4,
 "nbformat_minor": 2
}
